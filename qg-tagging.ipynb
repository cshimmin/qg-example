{
 "cells": [
  {
   "cell_type": "code",
   "execution_count": 1,
   "metadata": {},
   "outputs": [],
   "source": [
    "import energyflow"
   ]
  },
  {
   "cell_type": "code",
   "execution_count": 2,
   "metadata": {},
   "outputs": [],
   "source": [
    "import numpy as np\n",
    "import matplotlib.pyplot as plt\n",
    "from matplotlib.colors import LogNorm"
   ]
  },
  {
   "cell_type": "code",
   "execution_count": 3,
   "metadata": {},
   "outputs": [],
   "source": [
    "x0, y = energyflow.datasets.qg_jets.load(10000)"
   ]
  },
  {
   "cell_type": "markdown",
   "metadata": {},
   "source": [
    "Let's load a pre-made dataset from the internet. This function will automatically download the data in the background, and then return two arrays.\n",
    "The first array `x` contains particle data, the second array `y` contains a label for each event: 0 means gluon, 1 means quark."
   ]
  },
  {
   "cell_type": "markdown",
   "metadata": {},
   "source": [
    "`y` simply contains 10k numbers indicating the target label for each event."
   ]
  },
  {
   "cell_type": "code",
   "execution_count": 4,
   "metadata": {},
   "outputs": [
    {
     "data": {
      "text/plain": [
       "(10000,)"
      ]
     },
     "execution_count": 4,
     "metadata": {},
     "output_type": "execute_result"
    }
   ],
   "source": [
    "y.shape"
   ]
  },
  {
   "cell_type": "markdown",
   "metadata": {},
   "source": [
    "The array `x0` contains 10k events. Each event has UP TO 139 particles, and each particle has a 4-vector (pT, eta, phi, pid).\n",
    "Non-existent particles will be filled with zeros.\n",
    "\n",
    "We say this array has **3 axes** or **3 dimensions**. The axes are referred to starting with zero.\n",
    "The **size** of axis 0 is 10k, axis 1 is 139, and axis 2 is 4.\n",
    "\n",
    "We can always get information about the axes and their sizes (collectively known as the shape) of a numpy array as follows:"
   ]
  },
  {
   "cell_type": "code",
   "execution_count": 5,
   "metadata": {},
   "outputs": [
    {
     "data": {
      "text/plain": [
       "(10000, 139, 4)"
      ]
     },
     "execution_count": 5,
     "metadata": {},
     "output_type": "execute_result"
    }
   ],
   "source": [
    "x0.shape"
   ]
  },
  {
   "cell_type": "markdown",
   "metadata": {},
   "source": [
    "For convenience, I am going to convert the 4-vectors from `x0` into rectilinear form (E, px, py, pz), which we'll call `x`. You should skip over the for now but cycle back later on and see if you can follow the code!"
   ]
  },
  {
   "cell_type": "code",
   "execution_count": 6,
   "metadata": {},
   "outputs": [
    {
     "data": {
      "text/plain": [
       "(10000, 139, 4)"
      ]
     },
     "execution_count": 6,
     "metadata": {},
     "output_type": "execute_result"
    }
   ],
   "source": [
    "pt, eta, phi, pid = np.split(x0, 4, axis=-1)\n",
    "px = pt*np.cos(phi)\n",
    "py = pt*np.sin(phi)\n",
    "pz = pt*np.sinh(eta)\n",
    "m = energyflow.utils.particle_utils.pids2ms(pid) # util to translate PID to particle masses\n",
    "E = np.sqrt(px**2 + py**2 + pz**2 + m**2)\n",
    "x = np.concatenate([E,px,py,pz], axis=-1)\n",
    "x.shape"
   ]
  },
  {
   "cell_type": "markdown",
   "metadata": {},
   "source": [
    "We can select specific elements from any axis using **array slices**. This is done using the `[]` operator, specifying an index or range of indices for each axis, separated by commas. To select the whole size of an axis, we use `:`. To select a single element, we just put the index number. For example, the following will select only the energy component of each particle's 4-vector:"
   ]
  },
  {
   "cell_type": "code",
   "execution_count": 7,
   "metadata": {},
   "outputs": [
    {
     "data": {
      "text/plain": [
       "(10000, 139)"
      ]
     },
     "execution_count": 7,
     "metadata": {},
     "output_type": "execute_result"
    }
   ],
   "source": [
    "particle_energies = x[:,:,0]\n",
    "particle_energies.shape"
   ]
  },
  {
   "cell_type": "markdown",
   "metadata": {},
   "source": [
    "Note that the array `particle_energies` is now only 2-dimensional. It has a value of energy of each of the 139 particles, for each of the 10k events.\n",
    "\n",
    "Indices can be specified by counting backwards using negative numbers, for example, `-1` refers to the last element of the axis, `-2` the second-last, and so on.\n",
    "\n",
    "We can also select a range of elements from an axis by using a range of the form `a:b`. A slice of the form `:b` is shorthand for `0:b` and a slice of the form `a:` is shorthand for `a:-1`. For example, the following will select the 3-vector component of each particle (px, py, pz):"
   ]
  },
  {
   "cell_type": "code",
   "execution_count": 8,
   "metadata": {},
   "outputs": [
    {
     "data": {
      "text/plain": [
       "(10000, 139, 3)"
      ]
     },
     "execution_count": 8,
     "metadata": {},
     "output_type": "execute_result"
    }
   ],
   "source": [
    "particle_momenta = x[:,:,1:]\n",
    "particle_momenta.shape"
   ]
  },
  {
   "cell_type": "markdown",
   "metadata": {},
   "source": [
    "Numpy provides some common **reduce** operations, such as sum, mean, std.\n",
    "By default, these operations will reduce an entire array to a single number. However, this isn't always useful. For example, the following computes the sum of all the px, py, pz, and E values for every particle in every event:"
   ]
  },
  {
   "cell_type": "code",
   "execution_count": 9,
   "metadata": {},
   "outputs": [
    {
     "data": {
      "text/plain": [
       "7366612.26131292"
      ]
     },
     "execution_count": 9,
     "metadata": {},
     "output_type": "execute_result"
    }
   ],
   "source": [
    "x.sum()"
   ]
  },
  {
   "cell_type": "markdown",
   "metadata": {},
   "source": [
    "Obiviously this number is pretty meaningless. However, we can also generally apply reduce operations **along a specific axis or axes**.\n",
    "For example, the following will compute the sum total energy of all particles in each jet:"
   ]
  },
  {
   "cell_type": "code",
   "execution_count": 10,
   "metadata": {},
   "outputs": [
    {
     "data": {
      "text/plain": [
       "(10000,)"
      ]
     },
     "execution_count": 10,
     "metadata": {},
     "output_type": "execute_result"
    }
   ],
   "source": [
    "jet_energies = x[:,:,0].sum(axis=1)\n",
    "jet_energies.shape"
   ]
  },
  {
   "cell_type": "markdown",
   "metadata": {},
   "source": [
    "Note that now we simply have a 1D array of 10k entries. We lost one dimension (the spacetime index) by selecting the energy element, and we lost another dimension (the particle index) by summing over it. This *is* meaningful: it tells us the energy of each jet in the dataset, which we can e.g. make a histogram of:"
   ]
  },
  {
   "cell_type": "code",
   "execution_count": 11,
   "metadata": {},
   "outputs": [
    {
     "data": {
      "image/png": "[encoded data removed]",
      "text/plain": [
       "<Figure size 432x288 with 1 Axes>"
      ]
     },
     "metadata": {
      "needs_background": "light"
     },
     "output_type": "display_data"
    }
   ],
   "source": [
    "plt.hist(jet_energies, histtype='step', bins=80, log=False)\n",
    "plt.xlabel(\"total jet energy [GeV]\");"
   ]
  },
  {
   "cell_type": "markdown",
   "metadata": {},
   "source": [
    "By default, when we apply math operations (such as addition, multiplication, etc) to arrays, the operation is performed **element-wise**. For example:"
   ]
  },
  {
   "cell_type": "code",
   "execution_count": 12,
   "metadata": {},
   "outputs": [
    {
     "name": "stdout",
     "output_type": "stream",
     "text": [
      "[0 1 2 3 4]\n",
      "[ 0  1  4  9 16]\n"
     ]
    }
   ],
   "source": [
    "a = np.arange(5)\n",
    "print(a)\n",
    "print(a*a)"
   ]
  },
  {
   "cell_type": "markdown",
   "metadata": {},
   "source": [
    "This allows us to do a lot of computations efficiently across entire arrays, without having to write loops. For example, the *magnitude* of the 3-momentum of each particle is |p|=sqrt(px^2 + py^2 + pz^2). In numpy we can do this by first computing the square of all the momentum components, and adding the components up along the last axis, and the taking the square root:"
   ]
  },
  {
   "cell_type": "code",
   "execution_count": 13,
   "metadata": {},
   "outputs": [
    {
     "data": {
      "text/plain": [
       "(10000, 139, 3)"
      ]
     },
     "execution_count": 13,
     "metadata": {},
     "output_type": "execute_result"
    }
   ],
   "source": [
    "psquared_components = x[:,:,1:]**2\n",
    "psquared_components.shape"
   ]
  },
  {
   "cell_type": "code",
   "execution_count": 14,
   "metadata": {},
   "outputs": [
    {
     "data": {
      "text/plain": [
       "(10000, 139)"
      ]
     },
     "execution_count": 14,
     "metadata": {},
     "output_type": "execute_result"
    }
   ],
   "source": [
    "psquared = psquared_components.sum(axis=-1)\n",
    "psquared.shape"
   ]
  },
  {
   "cell_type": "code",
   "execution_count": 15,
   "metadata": {},
   "outputs": [
    {
     "data": {
      "text/plain": [
       "(10000, 139)"
      ]
     },
     "execution_count": 15,
     "metadata": {},
     "output_type": "execute_result"
    }
   ],
   "source": [
    "pmag = np.sqrt(psquared)\n",
    "pmag.shape"
   ]
  },
  {
   "cell_type": "markdown",
   "metadata": {},
   "source": [
    "Now we have a value of |p| for each particle in each event. Alternatively, we could compute the total momentum *per event*; note that we should first add the vector elements of the particles element-wise!"
   ]
  },
  {
   "cell_type": "code",
   "execution_count": 16,
   "metadata": {},
   "outputs": [
    {
     "data": {
      "text/plain": [
       "(10000, 3)"
      ]
     },
     "execution_count": 16,
     "metadata": {},
     "output_type": "execute_result"
    }
   ],
   "source": [
    "jet_p = x[:,:,1:].sum(axis=1)\n",
    "jet_p.shape"
   ]
  },
  {
   "cell_type": "code",
   "execution_count": 17,
   "metadata": {},
   "outputs": [
    {
     "data": {
      "text/plain": [
       "(10000,)"
      ]
     },
     "execution_count": 17,
     "metadata": {},
     "output_type": "execute_result"
    }
   ],
   "source": [
    "jet_pmag = np.sqrt(np.sum(jet_p**2, axis=1))\n",
    "jet_pmag.shape"
   ]
  },
  {
   "cell_type": "code",
   "execution_count": 18,
   "metadata": {},
   "outputs": [
    {
     "data": {
      "image/png": "[encoded data removed]",
      "text/plain": [
       "<Figure size 432x288 with 1 Axes>"
      ]
     },
     "metadata": {
      "needs_background": "light"
     },
     "output_type": "display_data"
    }
   ],
   "source": [
    "plt.hist(jet_pmag, histtype='step', bins=80)\n",
    "plt.xlabel(\"total jet (scalar) momentum [GeV]\");"
   ]
  },
  {
   "cell_type": "markdown",
   "metadata": {},
   "source": [
    "It looks pretty similar to the energy distribution above. That's because these jets have relatively small mass compared to their momentum.\n",
    "\n",
    "Recall from relativity that m^2 = E^2 - p^2; therefore, we can compute the **invariant mass** of each jet (i.e. the collection of particles) as follows:"
   ]
  },
  {
   "cell_type": "code",
   "execution_count": 19,
   "metadata": {},
   "outputs": [
    {
     "data": {
      "text/plain": [
       "(10000,)"
      ]
     },
     "execution_count": 19,
     "metadata": {},
     "output_type": "execute_result"
    }
   ],
   "source": [
    "jet_mass = np.sqrt(jet_energies**2 - jet_pmag**2)\n",
    "jet_mass.shape"
   ]
  },
  {
   "cell_type": "code",
   "execution_count": 20,
   "metadata": {},
   "outputs": [
    {
     "data": {
      "image/png": "[encoded data removed]",
      "text/plain": [
       "<Figure size 432x288 with 1 Axes>"
      ]
     },
     "metadata": {
      "needs_background": "light"
     },
     "output_type": "display_data"
    }
   ],
   "source": [
    "plt.hist(jet_mass, histtype='step', bins=80);\n",
    "plt.xlabel(\"jet mass [GeV]\");"
   ]
  },
  {
   "cell_type": "markdown",
   "metadata": {},
   "source": [
    "Lastly, lets go back to detector coordinates (pt, eta, phi), and \"center\" all the particles about the jet axis. First, we compute the jet-level values for pt, eta, phi:"
   ]
  },
  {
   "cell_type": "code",
   "execution_count": 21,
   "metadata": {},
   "outputs": [],
   "source": [
    "jpt = np.sqrt(np.sum(jet_p[:,:2]**2, axis=-1))\n",
    "jphi = np.arctan2(jet_p[:,1],jet_p[:,0])\n",
    "jeta = np.arcsinh(jet_p[:,2]/jpt)"
   ]
  },
  {
   "cell_type": "markdown",
   "metadata": {},
   "source": [
    "Then we copy the original (pt,eta,phi) values for all the particles, and shift them so that the jet axis is centered at the origin.\n",
    "Note that we have to take some care to avoid wrap-around effects in phi (otherwise you'll get values like ~2pi instead of ~0).\n",
    "We also have to be sure to re-zero out the \"missing particles\", since all those zero values will be shifted."
   ]
  },
  {
   "cell_type": "code",
   "execution_count": 22,
   "metadata": {},
   "outputs": [],
   "source": [
    "x_center = x0[:,:,:3].copy()\n",
    "missing_particles = x0[:,:,0]==0\n",
    "x_center[:,:,1] -= jeta[:,np.newaxis]\n",
    "x_center[:,:,2] -= jphi[:,np.newaxis]\n",
    "x_center[:,:,2] = np.arctan2(np.sin(x_center[:,:,2]),np.cos(x_center[:,:,2]))\n",
    "\n",
    "# let's zero-out all the particles that were empty in the original data\n",
    "x_center[missing_particles] = 0"
   ]
  },
  {
   "cell_type": "markdown",
   "metadata": {},
   "source": [
    "Now that we have all the jet particles in a \"centered\" coordinate system, we can try to visualize some jets in the eta-phi plane.\n",
    "For this we can just make a 2D histogram, with entries weighted by the pT. Let's pick a few random jets from each category and look at their particles:"
   ]
  },
  {
   "cell_type": "code",
   "execution_count": 23,
   "metadata": {},
   "outputs": [
    {
     "data": {
      "image/png": "[encoded data removed]",
      "text/plain": [
       "<Figure size 1152x144 with 10 Axes>"
      ]
     },
     "metadata": {},
     "output_type": "display_data"
    },
    {
     "data": {
      "image/png": "[encoded data removed]",
      "text/plain": [
       "<Figure size 1152x144 with 10 Axes>"
      ]
     },
     "metadata": {},
     "output_type": "display_data"
    }
   ],
   "source": [
    "nplot = 10\n",
    "ysel = 0\n",
    "plt.figure(figsize=plt.figaspect(1/nplot))\n",
    "for i in range(nplot):\n",
    "    plt.subplot(1,nplot,i+1)\n",
    "    plt.hist2d(x_center[y==ysel][i,:,1], x_center[y==ysel][i,:,2], weights=x_center[y==ysel][i,:,0], bins=40, range=[(-0.4,0.4),(-0.4,0.4)], norm=LogNorm(vmin=0.05,vmax=100));\n",
    "    if i == 0:\n",
    "        plt.xlabel(r\"$\\Delta\\eta$\")\n",
    "        plt.ylabel(r\"$\\Delta\\phi$\")\n",
    "    \n",
    "    # turn off the axes numbers for tidiness:\n",
    "    plt.gca().xaxis.set_ticks([])\n",
    "    plt.gca().yaxis.set_ticks([])\n",
    "plt.suptitle(\"y = %d jets\"%(ysel), fontsize=16);\n",
    "\n",
    "ysel = 1\n",
    "plt.figure(figsize=plt.figaspect(1/nplot))\n",
    "for i in range(nplot):\n",
    "    plt.subplot(1,nplot,i+1)\n",
    "    plt.hist2d(x_center[y==ysel][i,:,1], x_center[y==ysel][i,:,2], weights=x_center[y==ysel][i,:,0], bins=40, range=[(-0.4,0.4),(-0.4,0.4)], norm=LogNorm(vmin=0.05,vmax=100));\n",
    "    if i == 0:\n",
    "        plt.xlabel(r\"$\\Delta\\eta$\")\n",
    "        plt.ylabel(r\"$\\Delta\\phi$\")\n",
    "    \n",
    "    # turn off the axes numbers for tidiness:\n",
    "    plt.gca().xaxis.set_ticks([])\n",
    "    plt.gca().yaxis.set_ticks([])\n",
    "plt.suptitle(\"y = %d jets\"%(ysel), fontsize=16);"
   ]
  },
  {
   "cell_type": "markdown",
   "metadata": {},
   "source": [
    "Can you spot the difference between these jets? The goal is to train a NN to do it -- hopefully better than a human and certainly faster!\n",
    "\n",
    "It can also helpful to look at a composite of many jets' eta/phi distribution. We can do that by simply adding all the jets together in the same histogram. The flatten() method is used to turn an N-d array into a 1D array with the same number of elements (since that is what hist2d expects as arguments). Note that since we're weighting by pT, the \"missing\" particles will not contribute."
   ]
  },
  {
   "cell_type": "code",
   "execution_count": 24,
   "metadata": {},
   "outputs": [
    {
     "data": {
      "image/png": "[encoded data removed]",
      "text/plain": [
       "<Figure size 720x288 with 2 Axes>"
      ]
     },
     "metadata": {
      "needs_background": "light"
     },
     "output_type": "display_data"
    }
   ],
   "source": [
    "plt.figure(figsize=plt.figaspect(0.4))\n",
    "plt.subplot(121)\n",
    "plt.hist2d(x_center[y==0,:,1].flatten(), x_center[y==0,:,2].flatten(), weights=x_center[y==0,:,0].flatten(), bins=80, range=[(-0.4,0.4),(-0.4,0.4)], norm=LogNorm(vmin=0.5,vmax=1e6));\n",
    "plt.title(\"composite of y=0 jets (centered)\", fontsize=16)\n",
    "plt.xlabel(r\"$\\Delta\\eta$\")\n",
    "plt.ylabel(r\"$\\Delta\\phi$\")\n",
    "plt.subplot(122)\n",
    "plt.hist2d(x_center[y==1,:,1].flatten(), x_center[y==1,:,2].flatten(), weights=x_center[y==1,:,0].flatten(), range=[(-0.4,0.4),(-0.4,0.4)], bins=80, norm=LogNorm(vmin=0.5,vmax=1e6));\n",
    "plt.title(\"composite of y=1 jets (centered)\", fontsize=16);\n",
    "plt.xlabel(r\"$\\Delta\\eta$\")\n",
    "plt.ylabel(r\"$\\Delta\\phi$\");"
   ]
  },
  {
   "cell_type": "markdown",
   "metadata": {},
   "source": [
    "The difference is fairly subtle -- mostly it seems like the gluon jets are more diffuse. A common approach to improve the usefulness of this visualization by orienting all the jets in the same way. That way, certain features won't get smeared and averaged out over the whole circle.\n",
    "\n",
    "As we will see, one of the benefits of building an equivariant network is that it makes this step unecessary. But let's do it for the sake of visualization!\n",
    "\n",
    "I'll leave this as a homework problem, but the steps are:\n",
    "\n",
    "  * Center all the particles about their respective jet axes (we've already done this)\n",
    "  * Identify the highest-pT particle in each jet, and apply a rotation in the eta/phi plane to all particles within the jet, such that the hardest particle lies on the positive-eta axis (i.e. it should have phi=0 after the rotation).\n",
    "  * Identify the 2nd-highest-pT particle in each jet, and, if necessary, apply a reflection of all particles about the eta axis to ensure that this 2nd hardest particle is in the upper half of the plane."
   ]
  },
  {
   "cell_type": "code",
   "execution_count": null,
   "metadata": {},
   "outputs": [],
   "source": []
  }
 ],
 "metadata": {
  "kernelspec": {
   "display_name": "Python 3",
   "language": "python",
   "name": "python3"
  },
  "language_info": {
   "codemirror_mode": {
    "name": "ipython",
    "version": 3
   },
   "file_extension": ".py",
   "mimetype": "text/x-python",
   "name": "python",
   "nbconvert_exporter": "python",
   "pygments_lexer": "ipython3",
   "version": "3.6.7"
  }
 },
 "nbformat": 4,
 "nbformat_minor": 4
}
